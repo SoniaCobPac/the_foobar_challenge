{
 "cells": [
  {
   "cell_type": "code",
   "execution_count": 1,
   "metadata": {},
   "outputs": [],
   "source": [
    "import pandas as pd\n",
    "import numpy as np\n",
    "\n",
    "import math"
   ]
  },
  {
   "cell_type": "markdown",
   "metadata": {},
   "source": [
    "Level 1"
   ]
  },
  {
   "cell_type": "markdown",
   "metadata": {},
   "source": [
    "1. Start with a random minion ID n, which is a nonnegative integer of length k in base b\n",
    "2. Define x and y as integers of length k. x has the digits of n in descending order, and y has the digits of n in ascending order\n",
    "3. Define z = x - y. Add leading zeros to z to maintain length k if necessary\n",
    "4. Assign n = z to get the next minion ID, and go back to step 2\n",
    "\n",
    "For example, given minion ID n = 1211, k = 4, b = 10, then x = 2111, y = 1112 and z = 2111 - 1112 = 0999. Then the next minion ID will be n = 0999 and the algorithm iterates again: x = 9990, y = 0999 and z = 9990 - 0999 = 8991, and so on.\n",
    "\n",
    "Depending on the values of n, k (derived from n), and b, at some point the algorithm reaches a cycle, such as by reaching a constant value. For example, starting with n = 210022, k = 6, b = 3, the algorithm will reach the cycle of values [210111, 122221, 102212] and it will stay in this cycle no matter how many times it continues iterating. Starting with n = 1211, the routine will reach the integer 6174, and since 7641 - 1467 is 6174, it will stay as that value no matter how many times it iterates.\n",
    "\n",
    "Given a minion ID as a string n representing a nonnegative integer of length k in base b, where 2 <= k <= 9 and 2 <= b <= 10, write a function solution(n, b) which returns the length of the ending cycle of the algorithm above starting with n. For instance, in the example above, solution(210022, 3) would return 3, since iterating on 102212 would return to 210111 when done in base 3. If the algorithm reaches a constant, such as 0, then the length is 1."
   ]
  },
  {
   "cell_type": "code",
   "execution_count": 2,
   "metadata": {},
   "outputs": [],
   "source": [
    "def convert_to_any_base(number, base):\n",
    "    \"\"\"Convert an integer to a string in any base\"\"\"    \n",
    "    if number == 0:\n",
    "        return '0'\n",
    "\n",
    "    digits = []\n",
    "    while number:\n",
    "        digits.append(int(number % base))\n",
    "        number//=base\n",
    "    return \"\".join(map(str, digits[::-1]))"
   ]
  },
  {
   "cell_type": "code",
   "execution_count": 5,
   "metadata": {},
   "outputs": [],
   "source": [
    "def solution(n,b):\n",
    "    \"\"\" \"\"\"\n",
    "    id_list=[n]\n",
    "\n",
    "    def cycle(n, b, ids):\n",
    "        \"\"\" \"\"\"\n",
    "        k = len(n)\n",
    "\n",
    "        x = \"\".join(sorted(n, reverse = True))\n",
    "        x = int(x, b)\n",
    "        y = \"\".join(sorted(n))\n",
    "        y = int(y, b)\n",
    "        z = x - y\n",
    "        z = convert_to_any_base(z, b)\n",
    "\n",
    "        # Add leading zeros to z to maintain k length \n",
    "        if len(z) < k:\n",
    "            z = z.zfill(k)\n",
    "        return z\n",
    "\n",
    "    z = cycle(n, b, id_list)\n",
    "\n",
    "    while z not in id_list:\n",
    "        id_list.append(z)\n",
    "        n = z\n",
    "        z = cycle(n, b, id_list)\n",
    "        \n",
    "    else:\n",
    "        cycle_start = z \n",
    "        \n",
    "        while n != cycle_start:\n",
    "            id_list.append(z)\n",
    "            n = z\n",
    "            z = cycle(n, b, id_list)\n",
    "\n",
    "            return len(id_list) - id_list.index(cycle_start) -1\n",
    "        else:\n",
    "            return 1"
   ]
  },
  {
   "cell_type": "code",
   "execution_count": 6,
   "metadata": {},
   "outputs": [
    {
     "data": {
      "text/plain": [
       "3"
      ]
     },
     "execution_count": 6,
     "metadata": {},
     "output_type": "execute_result"
    }
   ],
   "source": [
    "solution('210022', 3)"
   ]
  },
  {
   "cell_type": "markdown",
   "metadata": {},
   "source": [
    "Level 2"
   ]
  },
  {
   "cell_type": "markdown",
   "metadata": {},
   "source": [
    "As a henchman on Commander Lambda's space station, you're expected to be resourceful, smart, and a quick thinker. It's not easy building a doomsday device and capturing bunnies at the same time, after all! In order to make sure that everyone working for her is sufficiently quick-witted, Commander Lambda has installed new flooring outside the henchman dormitories. It looks like a chessboard, and every morning and evening you have to solve a new movement puzzle in order to cross the floor. That would be fine if you got to be the rook or the queen, but instead, you have to be the knight. Worse, if you take too much time solving the puzzle, you get \"volunteered\" as a test subject for the LAMBCHOP doomsday device!\n",
    "\n",
    "To help yourself get to and from your bunk every day, write a function called answer(src, dest) which takes in two parameters: the source square, on which you start, and the destination square, which is where you need to land to solve the puzzle.  The function should return an integer representing the smallest number of moves it will take for you to travel from the source square to the destination square using a chess knight's moves (that is, two squares in any direction immediately followed by one square perpendicular to that direction, or vice versa, in an \"L\" shape).  Both the source and destination squares will be an integer between 0 and 63, inclusive, and are numbered like the example chessboard below:\n",
    "\n",
    "| 0| 1| 2| 3| 4| 5| 6| 7|\n",
    "\n",
    "| 8| 9|10|11|12|13|14|15|\n",
    "\n",
    "|16|17|18|19|20|21|22|23|\n",
    "\n",
    "|24|25|26|27|28|29|30|31|\n",
    "\n",
    "|32|33|34|35|36|37|38|39|\n",
    "\n",
    "|40|41|42|43|44|45|46|47|\n",
    "\n",
    "|48|49|50|51|52|53|54|55|\n",
    "\n",
    "|56|57|58|59|60|61|62|63|\n"
   ]
  },
  {
   "cell_type": "code",
   "execution_count": 8,
   "metadata": {},
   "outputs": [],
   "source": [
    "def pos_to_coords(pos):\n",
    "    \"\"\"Convert any position to coordinates\"\"\"\n",
    "    x = int(pos/8)\n",
    "    y = int(pos%8)\n",
    "    return (x, y)\n",
    "\n",
    "def possible_moves(x, y):\n",
    "    \"\"\"Return a list of valid coordinates as the next knight's move\"\"\"\n",
    "    all_moves = []\n",
    "    all_moves.append((x+2, y+1))\n",
    "    all_moves.append((x+2, y-1))\n",
    "    all_moves.append((x-2, y+1))\n",
    "    all_moves.append((x-2, y-1))\n",
    "    all_moves.append((x+1, y+2))\n",
    "    all_moves.append((x+1, y-2))\n",
    "    all_moves.append((x-1, y+2))\n",
    "    all_moves.append((x-1, y-2))\n",
    "\n",
    "    valid_moves = []\n",
    "    for (x, y) in all_moves:\n",
    "        if (x >= 0 and x < 8 and y >= 0 and y < 8):\n",
    "            valid_moves.append((x, y))\n",
    "    \n",
    "    return valid_moves\n",
    "\n",
    "def solution(src, dest):\n",
    "    \"\"\"Return the samllest number of moves a chess knight will take to travel \n",
    "        from the starting point, src, to the destination square, dest\"\"\"\n",
    "\n",
    "    if src == dest:\n",
    "        return 0\n",
    "\n",
    "    src_x, src_y = pos_to_coords(src)\n",
    "    dst_x, dst_y = pos_to_coords(dest)\n",
    "\n",
    "    next_move = possible_moves(src_x, src_y)\n",
    "    all_moves = []\n",
    "\n",
    "    turns = 0\n",
    "\n",
    "    while True:\n",
    "        turns +=1\n",
    "\n",
    "        for move in next_move:\n",
    "            if move[0] == dst_x and move[1] == dst_y:\n",
    "                return turns\n",
    "            \n",
    "            all_moves.extend(possible_moves(move[0], move[1]))\n",
    "        \n",
    "        next_move = all_moves\n",
    "        all_moves = []"
   ]
  },
  {
   "cell_type": "code",
   "execution_count": 9,
   "metadata": {},
   "outputs": [
    {
     "data": {
      "text/plain": [
       "1"
      ]
     },
     "execution_count": 9,
     "metadata": {},
     "output_type": "execute_result"
    }
   ],
   "source": [
    "solution(19, 36) "
   ]
  },
  {
   "cell_type": "markdown",
   "metadata": {},
   "source": [
    "Level 3"
   ]
  },
  {
   "cell_type": "markdown",
   "metadata": {},
   "source": [
    "With the LAMBCHOP doomsday device finished, Commander Lambda is preparing to debut on the galactic stage – but in order to make a grand entrance, Lambda needs a grand staircase! As the Commander’s personal assistant, you’ve been tasked with figuring out how to build the best staircase EVER.\n",
    "\n",
    "Lambda has given you an overview of the types of bricks available, plus a budget. You can buy different amounts of the different types of bricks (for example, 3 little pink bricks, or 5 blue lace bricks). Commander Lambda wants to know how many different types of staircases can be built with each amount of bricks, so they can pick the one with the most options.\n",
    "\n",
    "Each type of staircase should consist of 2 or more steps. No two steps are allowed to be at the same height - each step must be lower than the previous one. All steps must contain at least one brick. A step’s height is classified as the total amount of bricks that make up that step. For example, when N = 3, you have only 1 choice of how to build the staircase, with the first step having a height of 2 and the second step having a height of 1"
   ]
  },
  {
   "cell_type": "code",
   "execution_count": 10,
   "metadata": {},
   "outputs": [
    {
     "data": {
      "text/plain": [
       "487067745"
      ]
     },
     "execution_count": 10,
     "metadata": {},
     "output_type": "execute_result"
    }
   ],
   "source": [
    "n = 8\n",
    "\n",
    "def solution(n):\n",
    "    memory = [[0 for i in range(n + 1)] for j in range(n +1)]\n",
    "    memory[0][0] = 1 # base case\n",
    "\n",
    "    for last_step in range(1, n + 1):\n",
    "        for brick_left in range(0, n + 1):\n",
    "            # all options\n",
    "            memory[last_step][brick_left] = memory[last_step - 1][brick_left]\n",
    "\n",
    "            if brick_left >= last_step:\n",
    "                memory[last_step][brick_left] += memory[last_step - 1][brick_left - last_step]\n",
    "    \n",
    "    return memory[n][n] - 1\n",
    "\n",
    "solution(200)"
   ]
  },
  {
   "cell_type": "markdown",
   "metadata": {},
   "source": [
    "Level 4"
   ]
  },
  {
   "cell_type": "markdown",
   "metadata": {},
   "source": [
    "You're almost ready to make your move to destroy the LAMBCHOP doomsday device, but the security checkpoints that guard the underlying systems of the LAMBCHOP are going to be a problem. You were able to take one down without tripping any alarms, which is great! Except that as Commander Lambda's assistant, you've learned that the checkpoints are about to come under automated review, which means that your sabotage will be discovered and your cover blown - unless you can trick the automated review system.\n",
    "\n",
    "To trick the system, you'll need to write a program to return the same security checksum that the guards would have after they would have checked all the workers through. Fortunately, Commander Lambda's desire for efficiency won't allow for hours-long lines, so the checkpoint guards have found ways to quicken the pass-through rate. Instead of checking each and every worker coming through, the guards instead go over everyone in line while noting their security IDs, then allow the line to fill back up. Once they've done that they go over the line again, this time leaving off the last worker. They continue doing this, leaving off one more worker from the line each time but recording the security IDs of those they do check, until they skip the entire line, at which point they XOR the IDs of all the workers they noted into a checksum and then take off for lunch. Fortunately, the workers' orderly nature causes them to always line up in numerical order without any gaps.\n",
    "\n",
    "For example, if the first worker in line has ID 0 and the security checkpoint line holds three workers, the process would look like this:\n",
    "\n",
    "0 1 2 /\n",
    "\n",
    "3 4 / 5\n",
    "\n",
    "6 / 7 8\n",
    "\n",
    "where the guards' XOR (^) checksum is 0^1^2^3^4^6 == 2.\n",
    "\n",
    "Likewise, if the first worker has ID 17 and the checkpoint holds four workers, the process would look like:\n",
    "\n",
    "17 18 19 20 /\n",
    "\n",
    "21 22 23 / 24\n",
    "\n",
    "25 26 / 27 28\n",
    "\n",
    "29 / 30 31 32\n",
    "\n",
    "which produces the checksum 17^18^19^20^21^22^23^25^26^29 == 14.\n",
    "\n",
    "All worker IDs (including the first worker) are between 0 and 2000000000 inclusive, and the checkpoint line will always be at least 1 worker long.\n",
    "\n",
    "With this information, write a function answer(start, length) that will cover for the missing security checkpoint by outputting the same checksum the guards would normally submit before lunch. You have just enough time to find out the ID of the first worker to be checked (start) and the length of the line (length) before the automatic review occurs, so your program must generate the proper checksum with just those two values."
   ]
  },
  {
   "cell_type": "code",
   "execution_count": 11,
   "metadata": {},
   "outputs": [
    {
     "data": {
      "text/plain": [
       "14"
      ]
     },
     "execution_count": 11,
     "metadata": {},
     "output_type": "execute_result"
    }
   ],
   "source": [
    "start = 17\n",
    "length = 4\n",
    "\n",
    "#first_line = [list(range(start, start + length))]\n",
    "res = []\n",
    "\n",
    "def xor_number(n):\n",
    "    if n%4 == 0:\n",
    "        return n\n",
    "    if n%4 == 1:\n",
    "        return 1\n",
    "    if n%4 == 2:\n",
    "        return n + 1\n",
    "    else:\n",
    "        return 0\n",
    "\n",
    "checksum = 0\n",
    "for i in range(length, 0, -1):\n",
    "    checksum = checksum ^ (xor_number(start + i -1) ^ xor_number(start - 1))\n",
    "    start = start + length \n",
    "checksum"
   ]
  },
  {
   "cell_type": "markdown",
   "metadata": {},
   "source": [
    "Level 5"
   ]
  },
  {
   "cell_type": "markdown",
   "metadata": {},
   "source": [
    "You're so close to destroying the LAMBCHOP doomsday device you can taste it! But in order to do so, you need to deploy special self-replicating bombs designed for you by the brightest scientists on Bunny Planet. There are two types: Mach bombs (M) and Facula bombs (F). The bombs, once released into the LAMBCHOP's inner workings, will automatically deploy to all the strategic points you've identified and destroy them at the same time.\n",
    "\n",
    "But there's a few catches. First, the bombs self-replicate via one of two distinct processes:\n",
    "Every Mach bomb retrieves a sync unit from a Facula bomb; for every Mach bomb, a Facula bomb is created;\n",
    "Every Facula bomb spontaneously creates a Mach bomb.\n",
    "\n",
    "For example, if you had 3 Mach bombs and 2 Facula bombs, they could either produce 3 Mach bombs and 5 Facula bombs, or 5 Mach bombs and 2 Facula bombs. The replication process can be changed each cycle.\n",
    "\n",
    "Second, you need to ensure that you have exactly the right number of Mach and Facula bombs to destroy the LAMBCHOP device. Too few, and the device might survive. Too many, and you might overload the mass capacitors and create a singularity at the heart of the space station - not good!\n",
    "\n",
    "And finally, you were only able to smuggle one of each type of bomb - one Mach, one Facula - aboard the ship when you arrived, so that's all you have to start with. (Thus it may be impossible to deploy the bombs to destroy the LAMBCHOP, but that's not going to stop you from trying!)\n",
    "\n",
    "You need to know how many replication cycles (generations) it will take to generate the correct amount of bombs to destroy the LAMBCHOP. Write a function answer(M, F) where M and F are the number of Mach and Facula bombs needed. Return the fewest number of generations (as a string) that need to pass before you'll have the exact number of bombs necessary to destroy the LAMBCHOP, or the string \"impossible\" if this can't be done! M and F will be string representations of positive integers no larger than 10^50. For example, if M = \"2\" and F = \"1\", one generation would need to pass, so the answer would be \"1\". However, if M = \"2\" and F = \"4\", it would not be possible."
   ]
  },
  {
   "cell_type": "code",
   "execution_count": 12,
   "metadata": {},
   "outputs": [],
   "source": [
    "def solution(x, y):\n",
    "    \"\"\"Return replication cycles it takes to generate \n",
    "        the correct amount of bombs, x and y\"\"\"\n",
    "    M = int(x)\n",
    "    F = int(y)\n",
    "\n",
    "    x = max(M,F) \n",
    "    y = min(M,F) \n",
    "\n",
    "    if x == 0 or y == 0:\n",
    "        return 'impossible'\n",
    "    \n",
    "    cycle = 0\n",
    "    while x != y:\n",
    "        res =(x-y)// y + ((x-y) % y > 0)\n",
    "        cycle +=res\n",
    "        x, y = x - res * y, y \n",
    "    \n",
    "        x = max(x,y) \n",
    "        y = min(x,y) \n",
    "    \n",
    "    if (x,y) == (1,1):\n",
    "        return str(cycle)\n",
    "    else:\n",
    "        return 'impossible'"
   ]
  },
  {
   "cell_type": "code",
   "execution_count": null,
   "metadata": {},
   "outputs": [],
   "source": []
  }
 ],
 "metadata": {
  "kernelspec": {
   "display_name": "Python 3.8.10 ('env': venv)",
   "language": "python",
   "name": "python3"
  },
  "language_info": {
   "codemirror_mode": {
    "name": "ipython",
    "version": 3
   },
   "file_extension": ".py",
   "mimetype": "text/x-python",
   "name": "python",
   "nbconvert_exporter": "python",
   "pygments_lexer": "ipython3",
   "version": "3.8.10"
  },
  "orig_nbformat": 4,
  "vscode": {
   "interpreter": {
    "hash": "ca4fb92fa2a968a6bd1a76c1dce8273ffd931f0b4a25931c24587f1d6ad12b61"
   }
  }
 },
 "nbformat": 4,
 "nbformat_minor": 2
}
